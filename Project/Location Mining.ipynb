{
 "cells": [
  {
   "cell_type": "code",
   "execution_count": 1,
   "metadata": {},
   "outputs": [],
   "source": [
    "import pandas as pd\n",
    "import numpy as np\n",
    "import sqlite3 \n",
    "from sklearn.cluster import KMeans\n",
    "con = sqlite3.connect(\"kill_match.db\")\n",
    "df = pd.read_sql_query('select time, victim_position_x, victim_position_y from kmatch where map = \"ERANGEL\" limit 5000000', con)"
   ]
  },
  {
   "cell_type": "code",
   "execution_count": null,
   "metadata": {},
   "outputs": [],
   "source": [
    "#DONE to ->\n",
    "df1 = df[df.time < 100]\n",
    "df1 = df1[['victim_position_x', 'victim_position_y']]\n",
    "kmeans = KMeans(n_clusters = 40)\n",
    "kmeans.fit(df1)\n",
    "pred = kmeans.predict(df1)\n",
    "df1['group'] = pred\n",
    "centers = kmeans.cluster_centers_\n",
    "df1['victim_position_x'] = df1['victim_position_x'].apply(lambda x:x*4096/800000)\n",
    "df1['victim_position_y'] = df1['victim_position_y'].apply(lambda x:x*4096/800000)"
   ]
  },
  {
   "cell_type": "code",
   "execution_count": null,
   "metadata": {},
   "outputs": [],
   "source": [
    "df1"
   ]
  },
  {
   "cell_type": "code",
   "execution_count": null,
   "metadata": {},
   "outputs": [],
   "source": [
    "density = []\n",
    "for i in range(len(centers)):\n",
    "    dfT = df1.loc[df1['group']==i]\n",
    "    density.append((i,centers[i]*4096/800000,len(dfT)/len(df1)*100))"
   ]
  },
  {
   "cell_type": "code",
   "execution_count": null,
   "metadata": {},
   "outputs": [],
   "source": [
    "import matplotlib.pyplot as plt\n",
    "##Graphic for plane drop zone map\n",
    "p_map = plt.imread(\"erangel.jpg\")\n",
    "fig, ax = plt.subplots(1,1,figsize = (15,15))\n",
    "plt.imshow(p_map, zorder=1)\n",
    "for i in range(len(density)):\n",
    "    ax.text(density[i][1][0]-20,density[i][1][1], \"%d\" %(i), verticalalignment='center',weight = 'bold', fontsize = 20, color = 'red')\n",
    "plt.scatter(df1['victim_position_x'], df1['victim_position_y'], c = pred, s = 1, cmap='viridis', zorder=2)\n",
    "plt.show()"
   ]
  },
  {
   "cell_type": "code",
   "execution_count": null,
   "metadata": {},
   "outputs": [],
   "source": [
    "print(\"Center : Score\")\n",
    "for i in range(len(density)):\n",
    "    print(\"%d : %f\"%(i,density[i][2]))\n"
   ]
  },
  {
   "cell_type": "code",
   "execution_count": null,
   "metadata": {},
   "outputs": [],
   "source": [
    "df2 = df[df.time < 920]\n",
    "df2 = df2[df2.time > 720]\n",
    "df2 = df2[['victim_position_x', 'victim_position_y']]\n",
    "df2.as_matrix()\n",
    "kmeans = KMeans(n_clusters = 30)\n",
    "kmeans.fit(df2)\n",
    "pred2 = kmeans.predict(df2)\n",
    "df2['group'] = pred2\n",
    "centers2 = kmeans.cluster_centers_\n",
    "df2['victim_position_x'] = df2['victim_position_x'].apply(lambda x:x*4096/800000)\n",
    "df2['victim_position_y'] = df2['victim_position_y'].apply(lambda x:x*4096/800000)\n",
    "density2 = []\n",
    "for i in range(len(centers2)):\n",
    "    dfT = df2.loc[df2['group']==i]\n",
    "    density2.append((i,centers2[i]*4096/800000,len(dfT)/len(df2)*100))\n",
    "import matplotlib.pyplot as plt\n",
    "##Graphic for plane drop zone map\n",
    "p_map = plt.imread(\"erangel.jpg\")\n",
    "fig, ax = plt.subplots(1,1,figsize = (15,15))\n",
    "plt.imshow(p_map, zorder=1)\n",
    "for i in range(len(density2)):\n",
    "    ax.text(density2[i][1][0]-20,density2[i][1][1], \"%d\" %(i), verticalalignment='center',weight = 'bold', fontsize = 20, color = 'red')\n",
    "plt.scatter(df2['victim_position_x'], df2['victim_position_y'], c = pred2, s = 0.1, cmap='magma', zorder=2)\n",
    "plt.show()\n",
    "print(\"Center : Score\")\n",
    "for i in range(len(density2)):\n",
    "    print(\"%d : %f\"%(i,density2[i][2]))"
   ]
  },
  {
   "cell_type": "code",
   "execution_count": null,
   "metadata": {},
   "outputs": [],
   "source": []
  }
 ],
 "metadata": {
  "kernelspec": {
   "display_name": "Python 3",
   "language": "python",
   "name": "python3"
  },
  "language_info": {
   "codemirror_mode": {
    "name": "ipython",
    "version": 3
   },
   "file_extension": ".py",
   "mimetype": "text/x-python",
   "name": "python",
   "nbconvert_exporter": "python",
   "pygments_lexer": "ipython3",
   "version": "3.5.4"
  }
 },
 "nbformat": 4,
 "nbformat_minor": 2
}
