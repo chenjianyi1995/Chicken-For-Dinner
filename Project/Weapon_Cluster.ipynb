{
 "cells": [
  {
   "cell_type": "code",
   "execution_count": null,
   "metadata": {},
   "outputs": [],
   "source": [
    "import pandas as pd\n",
    "import numpy as np\n",
    "from sqlalchemy import create_engine\n",
    "\n",
    "#create database\n",
    "kill_match_db = create_engine('sqlite:///kill_match.db')\n",
    "df1 = pd.read_sql_query('select killed_by, killer_position_x, killer_position_y, victim_position_x, victim_position_y from kmatch where killed_by not like \"%death.%\" and killed_by not like \"%Down%\" and killed_by not like \"%Blue%\" and killed_by not like \"%Fall%\" and killed_by like \"SCAR_L\" limit 10000', kill_match_db)\n",
    "\n",
    "\n"
   ]
  },
  {
   "cell_type": "code",
   "execution_count": null,
   "metadata": {},
   "outputs": [],
   "source": [
    "df1['kill_dist'] = ((df1['killer_position_x'] - df1['victim_position_x'])**2 + \n",
    "                    (df1['killer_position_y'] - df1['victim_position_y'])**2)**(1/2)\n"
   ]
  },
  {
   "cell_type": "code",
   "execution_count": null,
   "metadata": {},
   "outputs": [],
   "source": [
    "def iterate(k):\n",
    "    cluster_centers = []\n",
    "    convergence = 0\n",
    "    \n",
    "    #Random choose k centers\n",
    "    for i in range (k):\n",
    "        index = np.random.choice(len(df1['kill_dist']))\n",
    "        cluster_centers.append(round(df1.loc[index,'kill_dist']))\n",
    "        \n",
    "    while convergence !=k:\n",
    "        convergence = 0\n",
    "        groups = []\n",
    "        \n",
    "        #find the closest center for each point\n",
    "        for i in range(len(df1['kill_dist'])):\n",
    "            min_dist = abs(df1.loc[i,'kill_dist'] - cluster_centers[0])\n",
    "            min_ind = 0\n",
    "            for j in range(1,k):\n",
    "                temp_dist = abs(df1.loc[i,'kill_dist'] - cluster_centers[j])\n",
    "                if temp_dist < min_dist:\n",
    "                    min_dist = temp_dist\n",
    "                    min_ind = j\n",
    "            groups.append(min_ind)\n",
    "        \n",
    "        #calculate the new center\n",
    "        for i in range (k):\n",
    "            dsum = 0\n",
    "            count = 0\n",
    "            for j in range(len(df1['kill_dist'])):\n",
    "                if groups[j] == i:\n",
    "                    dsum += df1.loc[j,'kill_dist']\n",
    "                    count += 1\n",
    "            if count != 0:\n",
    "                new_center = dsum/count\n",
    "            if (new_center == cluster_centers[i]):\n",
    "                convergence += 1\n",
    "            else:\n",
    "                cluster_centers[i] = new_center\n",
    "        print (convergence)\n",
    "        print (cluster_centers)\n",
    "                \n"
   ]
  },
  {
   "cell_type": "code",
   "execution_count": null,
   "metadata": {},
   "outputs": [],
   "source": [
    "iterate(5)"
   ]
  },
  {
   "cell_type": "code",
   "execution_count": null,
   "metadata": {
    "collapsed": true
   },
   "outputs": [],
   "source": []
  }
 ],
 "metadata": {
  "kernelspec": {
   "display_name": "Python 3",
   "language": "python",
   "name": "python3"
  },
  "language_info": {
   "codemirror_mode": {
    "name": "ipython",
    "version": 3
   },
   "file_extension": ".py",
   "mimetype": "text/x-python",
   "name": "python",
   "nbconvert_exporter": "python",
   "pygments_lexer": "ipython3",
   "version": "3.6.3"
  }
 },
 "nbformat": 4,
 "nbformat_minor": 2
}
