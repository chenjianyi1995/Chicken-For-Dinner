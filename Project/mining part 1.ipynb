{
 "cells": [
  {
   "cell_type": "code",
   "execution_count": 1,
   "metadata": {
    "collapsed": true
   },
   "outputs": [],
   "source": [
    "import pandas as pd\n",
    "import numpy as np\n",
    "from sqlalchemy import create_engine\n",
    "\n",
    "agg_match_db = create_engine('sqlite:///agg_match.db')\n",
    "df = pd.read_sql_query('select match_id, player_kills, player_dbno, player_assists, total_dist, team_placement from amatch_solo where total_dist < 8400 and team_placement < 70 order by match_id', agg_match_db)\n",
    "df['skill'] = df['player_kills']+df['player_dbno']+0.5*df['player_assists']"
   ]
  },
  {
   "cell_type": "code",
   "execution_count": 9,
   "metadata": {
    "scrolled": true
   },
   "outputs": [],
   "source": [
    "df1 = df[['match_id', 'skill', 'total_dist', 'team_placement']]"
   ]
  },
  {
   "cell_type": "code",
   "execution_count": null,
   "metadata": {
    "scrolled": true
   },
   "outputs": [],
   "source": [
    "ids = df1['match_id']\n",
    "pre_id = ids[0]\n",
    "dist_sum = 0\n",
    "skill_sum = 0\n",
    "res = []\n",
    "match_len = len(ids)\n",
    "dist = df1['total_dist']\n",
    "skill = df1['skill']\n",
    "for i in range(match_len):\n",
    "    current_id = ids[i]\n",
    "    if(current_id == pre_id):\n",
    "        dist_sum += dist[i]\n",
    "        skill_sum += skill[i]\n",
    "    else:\n",
    "        res.append((pre_id, dist_sum, skill_sum))\n",
    "        pre_id = current_id\n",
    "        dist_sum = dist[i]\n",
    "        skill_sum = skill[i]"
   ]
  },
  {
   "cell_type": "code",
   "execution_count": null,
   "metadata": {
    "collapsed": true
   },
   "outputs": [],
   "source": [
    "current_id = res[0][0]\n",
    "state = 0\n",
    "for i in range(len(df1['match_id'])):\n",
    "    if df1.loc[i, 'match_id'] == current_match_id:\n",
    "        df1.loc[i, 'total_dist'] = df1.loc[i, 'total_dist']/total_dist_sum[state][1]\n",
    "        df1.loc[i, 'final_score'] = df1.loc[i, 'final_score']/total_score_sum[state][1]\n",
    "    else:\n",
    "        state += 1\n",
    "        current_match_id = total_dist_sum[state][0]\n",
    "        df1.loc[i, 'total_dist'] = df1.loc[i, 'total_dist']/total_dist_sum[state][1]\n",
    "        df1.loc[i, 'final_score'] = df1.loc[i, 'final_score']/total_score_sum[state][1]"
   ]
  }
 ],
 "metadata": {
  "kernelspec": {
   "display_name": "Python 3",
   "language": "python",
   "name": "python3"
  },
  "language_info": {
   "codemirror_mode": {
    "name": "ipython",
    "version": 3
   },
   "file_extension": ".py",
   "mimetype": "text/x-python",
   "name": "python",
   "nbconvert_exporter": "python",
   "pygments_lexer": "ipython3",
   "version": "3.6.3"
  }
 },
 "nbformat": 4,
 "nbformat_minor": 2
}
