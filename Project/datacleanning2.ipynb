{
 "cells": [
  {
   "cell_type": "code",
   "execution_count": 35,
   "metadata": {
    "collapsed": true
   },
   "outputs": [],
   "source": [
    "import pandas as pd\n",
    "import numpy as np\n",
    "from sqlalchemy import create_engine\n",
    "\n",
    "#create database\n",
    "agg_match_db = create_engine('sqlite:///agg_match.db')\n",
    "chunksize_ = 200000\n",
    "files = ['agg_match_stats_0.csv', 'agg_match_stats_1.csv',\n",
    "         'agg_match_stats_2.csv', 'agg_match_stats_3.csv',\n",
    "         'agg_match_stats_4.csv']\n",
    "for file in files:\n",
    "    for df in pd.read_csv(file, chunksize = chunksize_, iterator = True):\n",
    "        #data cleanning\n",
    "        columns = ['match_id','match_mode', 'party_size', 'player_name',\n",
    "                   'team_id', 'team_placement', 'player_kills', 'player_dbno', \n",
    "                   'player_assists', 'player_dmg','player_dist_ride', 'player_dist_walk']\n",
    "        for c in df.columns:\n",
    "            if c not in columns:\n",
    "                df = df.drop(c, axis=1)\n",
    "        df = df.dropna()\n",
    "        df = df[df.party_size == 1]\n",
    "        df = df[df.player_dist_walk != 0]\n",
    "        df['total_dist'] = df['player_dist_ride']+ df['player_dist_walk']\n",
    "        df.to_sql('amatch_solo', agg_match_db, if_exists='append')\n",
    "\n"
   ]
  },
  {
   "cell_type": "code",
   "execution_count": 39,
   "metadata": {},
   "outputs": [
    {
     "data": {
      "text/plain": [
       "total_dist    185.137909\n",
       "Name: 0.25, dtype: float64"
      ]
     },
     "execution_count": 39,
     "metadata": {},
     "output_type": "execute_result"
    }
   ],
   "source": [
    "df1 = pd.read_sql_query('select total_dist from amatch_solo', agg_match_db)"
   ]
  },
  {
   "cell_type": "code",
   "execution_count": 53,
   "metadata": {},
   "outputs": [
    {
     "name": "stdout",
     "output_type": "stream",
     "text": [
      "total_dist    3277.093366\n",
      "dtype: float64\n",
      "[0.000000,8377.871324]\n"
     ]
    }
   ],
   "source": [
    "Q1 = df1.quantile(q=0.25)\n",
    "Q3 = df1.quantile(q=0.75)\n",
    "IQR = Q3 - Q1\n",
    "print(IQR)\n",
    "print(\"[%f,%f]\"%(0, Q3 + 1.5*IQR))"
   ]
  },
  {
   "cell_type": "code",
   "execution_count": 50,
   "metadata": {},
   "outputs": [
    {
     "data": {
      "image/png": "[encoded data removed]",
      "text/plain": [
       "<matplotlib.figure.Figure at 0x22288c4ce80>"
      ]
     },
     "metadata": {},
     "output_type": "display_data"
    }
   ],
   "source": [
    "import matplotlib.pylab as plt\n",
    "\n",
    "plt.boxplot(df1['total_dist'])\n",
    "plt.show()"
   ]
  },
  {
   "cell_type": "code",
   "execution_count": 55,
   "metadata": {
    "collapsed": true
   },
   "outputs": [],
   "source": [
    "df2 = pd.read_sql_query('select * from amatch_solo where total_dist < 8400', agg_match_db)"
   ]
  },
  {
   "cell_type": "code",
   "execution_count": 56,
   "metadata": {},
   "outputs": [
    {
     "data": {
      "image/png": "[encoded data removed]",
      "text/plain": [
       "<matplotlib.figure.Figure at 0x2247644ee80>"
      ]
     },
     "metadata": {},
     "output_type": "display_data"
    }
   ],
   "source": [
    "plt.boxplot(df2['total_dist'])\n",
    "plt.show()"
   ]
  },
  {
   "cell_type": "code",
   "execution_count": 60,
   "metadata": {},
   "outputs": [
    {
     "data": {
      "image/png": "[encoded data removed]",
      "text/plain": [
       "<matplotlib.figure.Figure at 0x22411364668>"
      ]
     },
     "metadata": {},
     "output_type": "display_data"
    }
   ],
   "source": [
    "plt.hist(df2['total_dist'], bins= 50)\n",
    "plt.axvline(df2['total_dist'].median(), color='k', linestyle='dashed', linewidth=1)\n",
    "plt.show()"
   ]
  },
  {
   "cell_type": "code",
   "execution_count": 10,
   "metadata": {},
   "outputs": [],
   "source": [
    "import pandas as pd\n",
    "import numpy as np\n",
    "import matplotlib.pylab as plt\n",
    "from sqlalchemy import create_engine\n",
    "agg_match_db = create_engine('sqlite:///agg_match.db')\n",
    "df3 = pd.read_sql_query('select match_id, player_kills, player_dbno, player_assists, total_dist, team_placement from amatch_solo where total_dist < 8400 and team_placement < 70 group by match_id', agg_match_db)"
   ]
  },
  {
   "cell_type": "code",
   "execution_count": 77,
   "metadata": {},
   "outputs": [
    {
     "data": {
      "image/png": "[encoded data removed]",
      "text/plain": [
       "<matplotlib.figure.Figure at 0x22280944780>"
      ]
     },
     "metadata": {},
     "output_type": "display_data"
    },
    {
     "name": "stdout",
     "output_type": "stream",
     "text": [
      "570.869684\n"
     ]
    }
   ],
   "source": [
    "fig, ax = plt.subplot()\n",
    "plt.boxplot(df3['total_dist'], ax=ax)\n",
    "ax.set_ylabel(\"Total Travel Distance (m)\", fontsize=18)\n",
    "plt.show()\n",
    "q1 = df3['total_dist'].quantile(0.25)\n",
    "print(q1)"
   ]
  },
  {
   "cell_type": "code",
   "execution_count": 71,
   "metadata": {},
   "outputs": [
    {
     "data": {
      "image/png": "[encoded data removed]",
      "text/plain": [
       "<matplotlib.figure.Figure at 0x222d3bdacf8>"
      ]
     },
     "metadata": {},
     "output_type": "display_data"
    }
   ],
   "source": [
    "plt.hist(df3['total_dist'], bins= 500)\n",
    "plt.axvline(df3['total_dist'].median(), color='k', linestyle='dashed', linewidth=1)\n",
    "plt.show()"
   ]
  },
  {
   "cell_type": "code",
   "execution_count": 79,
   "metadata": {},
   "outputs": [
    {
     "data": {
      "image/png": "[encoded data removed]",
      "text/plain": [
       "<matplotlib.figure.Figure at 0x222d3bf70b8>"
      ]
     },
     "metadata": {},
     "output_type": "display_data"
    }
   ],
   "source": [
    "df3['skill'] = df3['player_kills']+df3['player_dbno']+0.5*df3['player_assists']\n",
    "plt.scatter(df3['skill'], df3['total_dist'])\n",
    "plt.show()"
   ]
  },
  {
   "cell_type": "code",
   "execution_count": 12,
   "metadata": {},
   "outputs": [],
   "source": [
    "df3['skill'] = df3['player_kills']+df3['player_dbno']+0.5*df3['player_assists']\n",
    "df3['final_score'] = 0.5*df3['total_dist']/(df3['total_dist'].median())+0.5*df3['skill']/(df3['skill'].median())"
   ]
  },
  {
   "cell_type": "code",
   "execution_count": 16,
   "metadata": {},
   "outputs": [
    {
     "data": {
      "image/png": "[encoded data removed]",
      "text/plain": [
       "<matplotlib.figure.Figure at 0x20c92344898>"
      ]
     },
     "metadata": {},
     "output_type": "display_data"
    }
   ],
   "source": [
    "#fig, ax = plt.subplot(figsize=(20,20))\n",
    "plt.scatter(df3['final_score'], df3['team_placement'])\n",
    "plt.show()"
   ]
  },
  {
   "cell_type": "code",
   "execution_count": 21,
   "metadata": {},
   "outputs": [
    {
     "name": "stdout",
     "output_type": "stream",
     "text": [
      "                                                 match_id\n",
      "0       2U4GBNA0YmlixJ6lhgS6xB2tqdo7SEhoYyHlVu18akkAzL...\n",
      "1       2U4GBNA0YmnMiL8FxzK-xRalmDs8__VvvNzmntjlIzBi0D...\n",
      "2       2U4GBNA0YmnNOKktVk9Qv5ZxUnnxXk1-kUI03yF8vbYyzd...\n",
      "3       2U4GBNA0YmmyNWABCuuEotdFnf2pYAu3C5f-JJ9Qv-UyQV...\n",
      "4       2U4GBNA0YmkRFnEnlar5FbJrM9fzxmAkpXnhkbdlw89MM6...\n",
      "5       2U4GBNA0YmlcJd06MAp1d4Q7M5Yy4PYrahIr2JBT9uhhXk...\n",
      "6       2U4GBNA0Ymm4vcRsQ1DQDPbaiK6c_0jM8aQ2SVRHMnNGFJ...\n",
      "7       2U4GBNA0Ymm_5InGu4XxmbWrPJjpsdwDKldtKteYWNAiZw...\n",
      "8       2U4GBNA0YmkbaxRIRrLkucLQeELe8PYIRW3ZTi14fb52We...\n",
      "9       2U4GBNA0YmkvCmIao1jSik4oZSUnd8bzeMgA1H7GSnDkUa...\n",
      "10      2U4GBNA0Ymk9oWjnPmYXWVwfOe3D-owgLcMqizYDazwhqu...\n",
      "11      2U4GBNA0Ymmc9iQSXPdXmsArOhTIR61JwcNH4n6Z2nEAsP...\n",
      "12      2U4GBNA0Ymk5zg3inVCasHGfBCqqK5ua4SpK2lrZRn20Eh...\n",
      "13      2U4GBNA0YmmJfFpXZ-QZQs8br_sVYD6XGe3CDoGgnAM66k...\n",
      "14      2U4GBNA0Ymnp7WwAto9g2slLUaiBKUFaPfS2cP7mxfvB4z...\n",
      "15      2U4GBNA0YmkBdWOTl0viZyP9BZHq6-ofZRBEjZ_gLlyDDS...\n",
      "16      2U4GBNA0YmntHJbpR3CshqtajmRviC8mCyG3zjNmHkCoj8...\n",
      "17      2U4GBNA0YmkWIoVIOiBuKUsPe44Jb0cZZ8RjZx2vS714qb...\n",
      "18      2U4GBNA0YmktKz70xawgcUn2gQCpMlEOQ3-UctoVvfbPVj...\n",
      "19      2U4GBNA0YmkQ00EhFgsvQVr6H40QjFqTNuXS7XSc4v7zMy...\n",
      "20      2U4GBNA0Ymknu3i5WUpgmn5lqV_r7SlfYesr0hqdmUPCgq...\n",
      "21      2U4GBNA0YmnvNvisAv2vEWjvk5hQwUunTU-wwxsNuGnzJQ...\n",
      "22      2U4GBNA0YmmZM3zTPzqCFVXmruC0h8FBfmjMCXmOdE34gF...\n",
      "23      2U4GBNA0YmlMBkU4uV1PHlE8qq8DQDypOsZ9C9D7iZlZuV...\n",
      "24      2U4GBNA0YmkJ5qxEDbYpcVedXPorydr7TiDaSun1klJQ-b...\n",
      "25      2U4GBNA0YmnoW8afpHFqvydQuLzOCEJkMcGJZvC0XfmIBD...\n",
      "26      2U4GBNA0Ymk_4UiIqG68gPliNVWi_u4FTGdQcPG1ZuSvNT...\n",
      "27      2U4GBNA0YmmJdBav7jUqOlvqP-I8HSYnA3kUdHuvUfWq_q...\n",
      "28      2U4GBNA0YmkojsxOqAJB_ElgsrGwrlZAiBshYyJv4XtBR1...\n",
      "29      2U4GBNA0Ymk1RHgbpquKEf2XGvs0Lf4hBM0pppK6ltkeeU...\n",
      "...                                                   ...\n",
      "152708  2U4GBNA0Ymm_BB1hjtDZ28_K2__hoD6EKLOlkAOhGu6OGx...\n",
      "152709  2U4GBNA0Ymk5e3F4aUbxzqKzIoCKv0BFTzejHRFxe6jxjp...\n",
      "152710  2U4GBNA0Ymk9gr5hs2Xn9vnRqqbKWT13_mXzdy0nZUJA5l...\n",
      "152711  2U4GBNA0Ymmz4EbwYbp8nDa338puPlHc06OyfB4Pk1baNw...\n",
      "152712  2U4GBNA0YmmQ8LorGCmhU-c6z2c9-TQkVvoTEwpBbF2H9j...\n",
      "152713  2U4GBNA0YmkJVDjEpSYkoQBtoGPpDmxJDqAiHXlimbVlwH...\n",
      "152714  2U4GBNA0YmmYHw7k5P-4j2KNsS_oIxd1WE-f1S2A4Efd-p...\n",
      "152715  2U4GBNA0YmmNvlFP8gTpApEw_NotpwfVBixMrUknsdfzNx...\n",
      "152716  2U4GBNA0Ymn6X4MCiJnJs_kyL-V7bUShP2ZB-CqQsZCZcH...\n",
      "152717  2U4GBNA0YmlVns2CDRiY2iiYVOyQj5zx9vtCQu1OwEGjTc...\n",
      "152718  2U4GBNA0YmngmuBZQHQobLr7vGyTk1bhcwxhZ1D7JdMRjf...\n",
      "152719  2U4GBNA0YmnbBrsg71-s1iA5e3n6alZ6Ok9c5TxChPCfnc...\n",
      "152720  2U4GBNA0YmkZq6pTE__cdbnzVS58TyQDPlxgsltrETDb4L...\n",
      "152721  2U4GBNA0YmlW14ALqxCqzxOoZv4XfyE_GnrMi8TE84YibL...\n",
      "152722  2U4GBNA0Ymn4y8VEY9lKnb9kiwcW3pz0MPoOiQglTtEjyf...\n",
      "152723  2U4GBNA0Yml41-khJTvu3Jjt4pQDjgth-CMLAfMm2cuRkR...\n",
      "152724  2U4GBNA0YmlVelg15sr1dGKu239gH5pJrXS1P2ORT2XNE7...\n",
      "152725  2U4GBNA0YmlhiANqaOuxmjTCZUZM5vKcM4mAqz3AHEs9h9...\n",
      "152726  2U4GBNA0YmnHa21X5vup0t3gxDq16f7WT_XsPwTdVj6RuZ...\n",
      "152727  2U4GBNA0YmkeDUkqHbG6YlZW2MIDthVkGFhedWJrwslH1R...\n",
      "152728  2U4GBNA0Ymmj2GhsPuamndXZGoL6zQ0RR9xM0PIUHqUe36...\n",
      "152729  2U4GBNA0YmkwaPWCwAq-fr0etcJixgGOAS-6XGPshO5Klt...\n",
      "152730  2U4GBNA0YmnmsHnVVVWWam1gsEO3eKP-n5j7Ge4IKJacDm...\n",
      "152731  2U4GBNA0YmlHG9nI-sxVfEuqD4hhgxxbXo0vT1kkOmtjok...\n",
      "152732  2U4GBNA0YmnO0Kx8bdOqppFBBUlGtdokBuzJexKlVxbWKA...\n",
      "152733  2U4GBNA0YmmH4uJRu0fPaTtlew-mZR8fqQ6ju9Daj9hSju...\n",
      "152734  2U4GBNA0YmmrnVaJAAEmjZ8P6hG0c3YWnTt8lZbRZUWY13...\n",
      "152735  2U4GBNA0YmlOxaHsHAxWr_0FCn0KSx51aWAPyNkcYOR0KJ...\n",
      "152736  2U4GBNA0YmlgCm1aBjCJMgw1AA2tL5ySc6t93y6Z6U1LsA...\n",
      "152737  2U4GBNA0Ymk7usSf7x0NYOE09uaDGL_zfMl8l6uUhGznLs...\n",
      "\n",
      "[152738 rows x 1 columns]\n"
     ]
    }
   ],
   "source": [
    "match_ids = pd.read_sql_query('select distinct match_id from amatch_solo', agg_match_db)\n",
    "print(match_ids)"
   ]
  },
  {
   "cell_type": "code",
   "execution_count": null,
   "metadata": {
    "scrolled": true
   },
   "outputs": [],
   "source": [
    "total_dist_sum = []\n",
    "final_score_sum = []\n",
    "total_sum = 0\n",
    "final_sum = 0\n",
    "for i in range(len(match_ids)):\n",
    "    j = match_ids.loc[i, 'match_id']\n",
    "    hold_match = df3[df3.match_id == j]\n",
    "    total_sum = hold_match['total_dist'].sum()\n",
    "    final_sum = hold_match['final_score'].sum()\n",
    "    total_dist_sum.append((j, total_sum))\n",
    "    final_score_sum.append((j, final_sum))\n",
    "    total_sum = 0\n",
    "    final_sum = 0"
   ]
  },
  {
   "cell_type": "code",
   "execution_count": null,
   "metadata": {},
   "outputs": [],
   "source": [
    "for i in df3.iterrows():\n",
    "    if df3.loc[i, 'match_id'] == :\n",
    "        print('here')"
   ]
  },
  {
   "cell_type": "code",
   "execution_count": null,
   "metadata": {
    "collapsed": true
   },
   "outputs": [],
   "source": []
  }
 ],
 "metadata": {
  "kernelspec": {
   "display_name": "Python 3",
   "language": "python",
   "name": "python3"
  },
  "language_info": {
   "codemirror_mode": {
    "name": "ipython",
    "version": 3
   },
   "file_extension": ".py",
   "mimetype": "text/x-python",
   "name": "python",
   "nbconvert_exporter": "python",
   "pygments_lexer": "ipython3",
   "version": "3.6.3"
  }
 },
 "nbformat": 4,
 "nbformat_minor": 2
}
